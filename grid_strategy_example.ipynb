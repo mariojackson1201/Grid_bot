{
 "cells": [
  {
   "cell_type": "markdown",
   "metadata": {},
   "source": [
    "# Grid Trading Strategy Example\n",
    "\n",
    "This notebook demonstrates how to use the grid trading strategy implementation.\n",
    "\n",
    "## What is Grid Trading?\n",
    "\n",
    "Grid trading is a strategy that places buy and sell orders at regular price intervals (grids). The strategy profits from price oscillations in ranging markets by:\n",
    "- Buying at lower grid levels\n",
    "- Selling at upper grid levels\n",
    "- Taking profit when price moves between grids\n",
    "\n",
    "Grid trading works best in **sideways/ranging markets** where price oscillates within a predictable range."
   ]
  },
  {
   "cell_type": "code",
   "execution_count": null,
   "metadata": {},
   "outputs": [],
   "source": [
    "import pandas as pd\n",
    "import matplotlib.pyplot as plt\n",
    "import grid_sim\n",
    "import grid_result\n",
    "import instrument\n",
    "import utils\n",
    "\n",
    "pd.set_option('display.max_columns', None)\n",
    "pd.set_option('display.width', 1000)"
   ]
  },
  {
   "cell_type": "markdown",
   "metadata": {},
   "source": [
    "## 1. Test Grid Strategy on a Single Pair\n",
    "\n",
    "Let's start by testing the grid strategy on a single currency pair (EUR_USD)."
   ]
  },
  {
   "cell_type": "code",
   "execution_count": null,
   "metadata": {},
   "outputs": [],
   "source": [
    "# Load instrument and price data\n",
    "pairname = \"EUR_USD\"\n",
    "granularity = \"H1\"\n",
    "\n",
    "i_pair = instrument.Instrument.get_instrument_by_name(pairname)\n",
    "price_data = grid_sim.get_price_data(pairname, granularity)\n",
    "\n",
    "print(f\"Loaded {len(price_data)} price bars for {pairname}\")\n",
    "print(f\"Price range: {price_data.mid_c.min():.5f} - {price_data.mid_c.max():.5f}\")\n",
    "price_data.head()"
   ]
  },
  {
   "cell_type": "code",
   "execution_count": null,
   "metadata": {},
   "outputs": [],
   "source": [
    "# Test with specific grid parameters\n",
    "grid_size_pips = 20  # 20 pips between each grid level\n",
    "num_levels = 10      # 10 levels above and below center\n",
    "\n",
    "result = grid_sim.evaluate_pair(i_pair, grid_size_pips, num_levels, price_data)\n",
    "\n",
    "# Print summary\n",
    "result.print_summary()"
   ]
  },
  {
   "cell_type": "markdown",
   "metadata": {},
   "source": [
    "## 2. View Individual Trades"
   ]
  },
  {
   "cell_type": "code",
   "execution_count": null,
   "metadata": {},
   "outputs": [],
   "source": [
    "# Get all trades\n",
    "trades_df = result.get_trades_df()\n",
    "\n",
    "print(f\"Total trades: {len(trades_df)}\")\n",
    "trades_df.head(10)"
   ]
  },
  {
   "cell_type": "code",
   "execution_count": null,
   "metadata": {},
   "outputs": [],
   "source": [
    "# View winning trades\n",
    "winning_trades = result.get_winning_trades()\n",
    "print(f\"\\nWinning trades: {len(winning_trades)}\")\n",
    "print(f\"Total profit: {winning_trades.GAIN.sum():.2f} pips\")\n",
    "winning_trades.head()"
   ]
  },
  {
   "cell_type": "code",
   "execution_count": null,
   "metadata": {},
   "outputs": [],
   "source": [
    "# View losing trades\n",
    "losing_trades = result.get_losing_trades()\n",
    "print(f\"\\nLosing trades: {len(losing_trades)}\")\n",
    "print(f\"Total loss: {losing_trades.GAIN.sum():.2f} pips\")\n",
    "losing_trades.head()"
   ]
  },
  {
   "cell_type": "markdown",
   "metadata": {},
   "source": [
    "## 3. Visualize Cumulative Returns"
   ]
  },
  {
   "cell_type": "code",
   "execution_count": null,
   "metadata": {},
   "outputs": [],
   "source": [
    "# Plot cumulative returns\n",
    "cumulative_returns = result.get_cumulative_returns()\n",
    "\n",
    "plt.figure(figsize=(12, 6))\n",
    "plt.plot(cumulative_returns.values)\n",
    "plt.title(f'Cumulative Returns - {pairname} (Grid: {grid_size_pips} pips, {num_levels} levels)')\n",
    "plt.xlabel('Trade Number')\n",
    "plt.ylabel('Cumulative Profit (pips)')\n",
    "plt.grid(True, alpha=0.3)\n",
    "plt.axhline(y=0, color='r', linestyle='--', alpha=0.5)\n",
    "plt.show()"
   ]
  },
  {
   "cell_type": "markdown",
   "metadata": {},
   "source": [
    "## 4. Test Multiple Grid Configurations\n",
    "\n",
    "Let's test different grid sizes and level counts to find the optimal configuration."
   ]
  },
  {
   "cell_type": "code",
   "execution_count": null,
   "metadata": {},
   "outputs": [],
   "source": [
    "# Test multiple configurations\n",
    "grid_sizes = [10, 20, 30, 50]\n",
    "num_levels_list = [5, 10, 15, 20]\n",
    "\n",
    "results = []\n",
    "for grid_size in grid_sizes:\n",
    "    for num_levels in num_levels_list:\n",
    "        result = grid_sim.evaluate_pair(i_pair, grid_size, num_levels, price_data)\n",
    "        if result is not None:\n",
    "            results.append(result)\n",
    "\n",
    "print(f\"Tested {len(results)} configurations\")"
   ]
  },
  {
   "cell_type": "code",
   "execution_count": null,
   "metadata": {},
   "outputs": [],
   "source": [
    "# Create summary DataFrame\n",
    "results_list = [r.result_ob() for r in results]\n",
    "results_df = pd.DataFrame.from_dict(results_list)\n",
    "\n",
    "# Sort by total gain\n",
    "results_df_sorted = results_df.sort_values('total_gain', ascending=False)\n",
    "\n",
    "print(\"Top 10 Configurations:\")\n",
    "results_df_sorted.head(10)"
   ]
  },
  {
   "cell_type": "markdown",
   "metadata": {},
   "source": [
    "## 5. Visualize Performance Across Configurations"
   ]
  },
  {
   "cell_type": "code",
   "execution_count": null,
   "metadata": {},
   "outputs": [],
   "source": [
    "# Heatmap of performance by grid size and num levels\n",
    "pivot_table = results_df.pivot_table(\n",
    "    values='total_gain', \n",
    "    index='num_levels', \n",
    "    columns='grid_size_pips'\n",
    ")\n",
    "\n",
    "plt.figure(figsize=(10, 6))\n",
    "plt.imshow(pivot_table.values, cmap='RdYlGn', aspect='auto')\n",
    "plt.colorbar(label='Total Gain (pips)')\n",
    "plt.xticks(range(len(pivot_table.columns)), pivot_table.columns)\n",
    "plt.yticks(range(len(pivot_table.index)), pivot_table.index)\n",
    "plt.xlabel('Grid Size (pips)')\n",
    "plt.ylabel('Number of Levels')\n",
    "plt.title(f'Grid Strategy Performance Heatmap - {pairname}')\n",
    "plt.show()"
   ]
  },
  {
   "cell_type": "code",
   "execution_count": null,
   "metadata": {},
   "outputs": [],
   "source": [
    "# Compare win rates across configurations\n",
    "plt.figure(figsize=(12, 6))\n",
    "plt.scatter(results_df.num_trades, results_df.total_gain, \n",
    "            c=results_df.win_rate, s=100, cmap='viridis', alpha=0.6)\n",
    "plt.colorbar(label='Win Rate (%)')\n",
    "plt.xlabel('Number of Trades')\n",
    "plt.ylabel('Total Gain (pips)')\n",
    "plt.title('Trades vs Profit (colored by Win Rate)')\n",
    "plt.grid(True, alpha=0.3)\n",
    "plt.show()"
   ]
  },
  {
   "cell_type": "markdown",
   "metadata": {},
   "source": [
    "## 6. Run Full Backtest on Multiple Pairs\n",
    "\n",
    "To run the full backtest on multiple currency pairs, uncomment and run the cell below.\n",
    "\n",
    "**Note:** This may take several minutes depending on the amount of historical data."
   ]
  },
  {
   "cell_type": "code",
   "execution_count": null,
   "metadata": {},
   "outputs": [],
   "source": [
    "# Uncomment to run full backtest\n",
    "# grid_sim.run()"
   ]
  },
  {
   "cell_type": "markdown",
   "metadata": {},
   "source": [
    "## 7. Analyze Results from Full Backtest\n",
    "\n",
    "After running the full backtest, you can load and analyze the results."
   ]
  },
  {
   "cell_type": "code",
   "execution_count": null,
   "metadata": {},
   "outputs": [],
   "source": [
    "# Load results from full backtest\n",
    "try:\n",
    "    full_results = grid_result.load_results('grid_test_res.pkl')\n",
    "    print(f\"Loaded {len(full_results)} results\")\n",
    "    \n",
    "    # Overall analysis\n",
    "    analysis = grid_result.analyze_results(full_results)\n",
    "    print(\"\\nOverall Analysis:\")\n",
    "    for key, value in analysis.items():\n",
    "        print(f\"  {key}: {value}\")\n",
    "    \n",
    "    # Top configurations\n",
    "    print(\"\\nTop 10 Configurations Across All Pairs:\")\n",
    "    top_configs = grid_result.get_best_configurations(full_results, top_n=10)\n",
    "    display(top_configs)\n",
    "    \n",
    "except FileNotFoundError:\n",
    "    print(\"No results file found. Run grid_sim.run() first.\")"
   ]
  },
  {
   "cell_type": "code",
   "execution_count": null,
   "metadata": {},
   "outputs": [],
   "source": [
    "# Load all trades\n",
    "try:\n",
    "    all_trades = grid_result.load_all_trades('grid_all_trades.pkl')\n",
    "    print(f\"Total trades across all pairs: {len(all_trades)}\")\n",
    "    \n",
    "    # Analyze by pair\n",
    "    print(\"\\nPerformance by Currency Pair:\")\n",
    "    pair_performance = all_trades.groupby('PAIR').agg({\n",
    "        'GAIN': ['count', 'sum', 'mean'],\n",
    "        'DURATION': 'mean'\n",
    "    }).round(2)\n",
    "    pair_performance.columns = ['Trades', 'Total Pips', 'Avg Pips', 'Avg Duration (hrs)']\n",
    "    pair_performance = pair_performance.sort_values('Total Pips', ascending=False)\n",
    "    display(pair_performance)\n",
    "    \n",
    "except FileNotFoundError:\n",
    "    print(\"No trades file found. Run grid_sim.run() first.\")"
   ]
  },
  {
   "cell_type": "markdown",
   "metadata": {},
   "source": [
    "## 8. Compare Grid Strategy with Moving Average Strategy\n",
    "\n",
    "If you have MA strategy results, you can compare them here."
   ]
  },
  {
   "cell_type": "code",
   "execution_count": null,
   "metadata": {},
   "outputs": [],
   "source": [
    "# Compare strategies\n",
    "try:\n",
    "    ma_results = pd.read_pickle('ma_test_res.pkl')\n",
    "    grid_results_full = pd.read_pickle('grid_test_res.pkl')\n",
    "    \n",
    "    print(\"Strategy Comparison:\")\n",
    "    print(f\"\\nMoving Average Strategy:\")\n",
    "    print(f\"  Total Trades: {ma_results.num_trades.sum()}\")\n",
    "    print(f\"  Total Gain: {ma_results.total_gain.sum():.2f} pips\")\n",
    "    print(f\"  Avg Gain per Trade: {ma_results.total_gain.sum() / ma_results.num_trades.sum():.2f} pips\")\n",
    "    \n",
    "    print(f\"\\nGrid Trading Strategy:\")\n",
    "    print(f\"  Total Trades: {grid_results_full.num_trades.sum()}\")\n",
    "    print(f\"  Total Gain: {grid_results_full.total_gain.sum():.2f} pips\")\n",
    "    print(f\"  Avg Gain per Trade: {grid_results_full.total_gain.sum() / grid_results_full.num_trades.sum():.2f} pips\")\n",
    "    \n",
    "except FileNotFoundError as e:\n",
    "    print(f\"Could not load comparison data: {e}\")"
   ]
  },
  {
   "cell_type": "markdown",
   "metadata": {},
   "source": [
    "## Conclusions\n",
    "\n",
    "Grid trading is most effective in:\n",
    "- **Ranging markets** with clear support/resistance levels\n",
    "- **Low volatility** periods\n",
    "- Currency pairs that tend to mean-revert\n",
    "\n",
    "Key considerations:\n",
    "- Grid size should match the pair's typical price movement\n",
    "- More levels = more trades but also more risk exposure\n",
    "- Monitor for trending markets where grid strategies can underperform\n",
    "- Consider combining with trend filters or volatility measures"
   ]
  }
 ],
 "metadata": {
  "kernelspec": {
   "display_name": "Python 3",
   "language": "python",
   "name": "python3"
  },
  "language_info": {
   "codemirror_mode": {
    "name": "ipython",
    "version": 3
   },
   "file_extension": ".py",
   "mimetype": "text/x-python",
   "name": "python",
   "nbconvert_exporter": "python",
   "pygments_lexer": "ipython3",
   "version": "3.8.0"
  }
 },
 "nbformat": 4,
 "nbformat_minor": 4
}
